{
 "cells": [
  {
   "cell_type": "markdown",
   "metadata": {},
   "source": [
    "# Part-of-speech Tagger con Keras\n",
    "Luca Casini - Elaborazione del Linguaggio Naturale - A.A. 2016/2017\n",
    "\n",
    "\n",
    "## Introduzione\n",
    "Lo scopo di questo progetto è creare un *Part-of-Speech Tagger*, ossia un programma che prende in input un testo ed è in grado di etichettare correttamente le parti di un discorso. L'approccio classico al problema si basa su modelli probabilistici come le Hidden Markov Machines ma negli ultimi anni i modelli basati sulle reti neurali, il cosidetto *deep learning*, sono diventati lo stato dell'arte.\n",
    "\n",
    "Ho quindi deciso di sperimentare con queste tecnologie utilizzando la libreria **Keras** che permette di sviluppare modelli di deep learning con relativa facilità."
   ]
  },
  {
   "cell_type": "code",
   "execution_count": 4,
   "metadata": {},
   "outputs": [],
   "source": [
    "import keras\n",
    "from keras.preprocessing import text\n",
    "from keras.preprocessing.sequence import pad_sequences\n",
    "from keras.models import Model, Input\n",
    "from keras.layers import LSTM, Embedding, Dense, TimeDistributed, Dropout, Bidirectional\n",
    "from keras_contrib.layers import CRF\n",
    "from keras.utils import to_categorical\n",
    "\n",
    "\n",
    "import numpy as np\n",
    "import pandas as pd\n",
    "\n",
    "from collections import Counter\n",
    "import string\n"
   ]
  },
  {
   "cell_type": "markdown",
   "metadata": {},
   "source": [
    "## Dataset \n",
    "I dati utilizzati sono quelli resi disponibili per la prova di PoS-tagging di **EVALITA 2009**. Il dataset è composto da 108,875 parole divise in 3,719 frasi ognuna delle quali è annotata con un tag dell'insieme **Tanl**, un tagset compatibile con lo standard internazionale EAGLES e composto da 14 classi divisibili a loro volta in 37 classi più fini che possono essere corredate da informazioni morfologiche per arrivare fino a 336 tag. Il file di partenza contiene anche le informazioni morfologiche ma le ho scartate decidendo di tenere solo l'insieme fine da 37 tag."
   ]
  },
  {
   "cell_type": "code",
   "execution_count": 5,
   "metadata": {
    "scrolled": true
   },
   "outputs": [
    {
     "name": "stderr",
     "output_type": "stream",
     "text": [
      "/usr/local/lib/python2.7/dist-packages/ipykernel_launcher.py:2: ParserWarning: Falling back to the 'python' engine because the 'c' engine does not support regex separators (separators > 1 char and different from '\\s+' are interpreted as regex); you can avoid this warning by specifying engine='python'.\n",
      "  \n"
     ]
    },
    {
     "name": "stdout",
     "output_type": "stream",
     "text": [
      "#words: 17315 #tags: 39\n",
      "<PADDING> <P>\n",
      "['<P>', 'A', 'AP', 'B', 'BN', 'CC', 'CS', 'DD', 'DE', 'DI', 'DQ', 'DR', 'E', 'EA', 'FB', 'FC', 'FF', 'FS', 'I', 'N', 'NO', 'PC', 'PD', 'PE', 'PI', 'PP', 'PQ', 'PR', 'RD', 'RI', 'S', 'SA', 'SP', 'SW', 'T', 'V', 'VA', 'VM', 'X']\n"
     ]
    }
   ],
   "source": [
    "# Apriamo il dataset utilizzando pandas\n",
    "data = pd.read_table(\"PoSTaggingCorpus/train\", sep=\"\\s*\")\n",
    "\n",
    "# questa funzione serve a utilizzare solo parte maiuscola del tag.\n",
    "# questa corrisponde al tagset fine grained senza informazioni sulla morfologia della parola\n",
    "def removeLower(tag):\n",
    "    t = tag.translate(None,string.ascii_lowercase)\n",
    "    t = t.translate(None,string.digits)\n",
    "    return t\n",
    "\n",
    "# insieme delle parole nel nostro dataset. un valore per il padding\n",
    "words = list(set(data.words))\n",
    "words.append(\"<PADDING>\")\n",
    "n_words = len(words)\n",
    "tags = list(set([removeLower(t) for t in data.tags]))\n",
    "tags.append(\"<P>\")\n",
    "n_tags = len(tags)\n",
    "\n",
    "print \"#words:\",n_words,\"#tags:\",n_tags\n",
    "\n",
    "print words[-1],tags[-1] # controllare se gli elementi di padding sono inseriti in coda\n",
    "print sorted(tags)"
   ]
  },
  {
   "cell_type": "markdown",
   "metadata": {},
   "source": [
    "Dopo aver creato il nostro *dizionario* di parole e tag, è necessario creare un insieme di tutte le frasi che serviranno poi ad allenare la rete neurale"
   ]
  },
  {
   "cell_type": "code",
   "execution_count": 6,
   "metadata": {},
   "outputs": [],
   "source": [
    "txt = open(\"PoSTaggingCorpus/train\",\"r\")\n",
    "txt.readline()\n",
    "txt.readline()\n",
    "line = txt.readline()\n",
    "sentences = []\n",
    "sn = []\n",
    "while line:\n",
    "    if line == \"\\n\":\n",
    "       # print \"LINEEND\",sn\n",
    "        sentences.append(sn)\n",
    "        sn = []\n",
    "        line = txt.readline()\n",
    "    else: \n",
    "        #print \"word\"\n",
    "        ln = line.split(\"\\t\")\n",
    "        ln[1] = ln[1].strip(\"\\n\")\n",
    "        sn.append((ln[0],removeLower(ln[1])))\n",
    "        line = txt.readline()\n",
    "\n",
    "#print \"#sentecses:\",len(sentences) \n",
    "#print sentences[0]"
   ]
  },
  {
   "cell_type": "markdown",
   "metadata": {},
   "source": [
    "Alla base della nostra rete neurale c'è un **word embdedding** ossia una rappresentazione vettoriale del nostro dizionario. In un word embdedding le relazioni tra le parole vengono catturate dalla loro posizione del campo vettoriale.\n"
   ]
  },
  {
   "cell_type": "code",
   "execution_count": 7,
   "metadata": {},
   "outputs": [
    {
     "name": "stdout",
     "output_type": "stream",
     "text": [
      "17315\n",
      "38\n"
     ]
    }
   ],
   "source": [
    "word2idx = {w: i + 1 for i, w in enumerate(words)}\n",
    "print word2idx[\"<PADDING>\"]\n",
    "\n",
    "tag2idx = {t: i for i, t in enumerate(tags)}\n",
    "print tag2idx[\"<P>\"]"
   ]
  },
  {
   "cell_type": "code",
   "execution_count": 9,
   "metadata": {},
   "outputs": [],
   "source": [
    "max_len = max([len(s) for s in sentences]) #longest sentence\n",
    "\n",
    "X = [[word2idx[w[0]] for w in s] for s in sentences]\n",
    "X = pad_sequences(maxlen=max_len, sequences=X, padding=\"post\", value=word2idx[\"<PADDING>\"])\n",
    "# X is the value for the residual class\n",
    "y = [[tag2idx[w[1]] for w in s] for s in sentences]\n",
    "y = pad_sequences(maxlen=max_len, sequences=y, padding=\"post\", value=tag2idx[\"<P>\"])\n"
   ]
  },
  {
   "cell_type": "code",
   "execution_count": 10,
   "metadata": {},
   "outputs": [],
   "source": [
    "y = [to_categorical(i, num_classes=n_tags) for i in y]"
   ]
  },
  {
   "cell_type": "code",
   "execution_count": 11,
   "metadata": {},
   "outputs": [
    {
     "data": {
      "text/plain": [
       "(186, 175)"
      ]
     },
     "execution_count": 11,
     "metadata": {},
     "output_type": "execute_result"
    }
   ],
   "source": [
    "from sklearn.model_selection import train_test_split\n",
    "X_tr, X_te, y_tr, y_te = train_test_split(X, y, test_size=0.05)\n",
    "X_te.shape"
   ]
  },
  {
   "cell_type": "markdown",
   "metadata": {},
   "source": [
    "## Rete Neurale\n",
    "\n",
    "L'architettura che in letteratura sembra ottenere i risultati migliori è costituita da una LSTM che prende in input un word embedding seguita da un CRF. L'ho implementata utilizzando Keras che permette di costruire il modello con un interfaccia di alto livello senza dover entrare nei dettagli dei singoli componenti.\n",
    "\n",
    "Come anticipato il livello di Embedding crea una rappresentazione vettoriale del nostro vocabolario e permette alla rete neurale di cogliere le relazioni sintattiche che ci sono tra le parole.\n",
    "\n",
    "Le LSTM (long short-time memory) sono un tipo di rete neurale ricorrente che è in grado di considerare anche i passi temporali precendenti quando analizza una sequenza, conservando una *memoria* del contensto. Questo livello viene incapsulato dal livello `Bidirectional` che fa in modo che la sequenza venga elaborata in entrambi i sensi in modo che per ogni parola sia disponibile il contesto che la precede e che la succede.\n",
    "\n",
    "I CRF (conditional random field) sono un modello probabilistico molto utilizzato con le sequenze di dati che costruiscono le proprie predizioni considerando la distribuzione dell'intera sequenza piuttosto che procedere passo per passo.\n",
    "\n"
   ]
  },
  {
   "cell_type": "code",
   "execution_count": 29,
   "metadata": {},
   "outputs": [
    {
     "name": "stdout",
     "output_type": "stream",
     "text": [
      "_________________________________________________________________\n",
      "Layer (type)                 Output Shape              Param #   \n",
      "=================================================================\n",
      "input_5 (InputLayer)         (None, 175)               0         \n",
      "_________________________________________________________________\n",
      "embedding_5 (Embedding)      (None, 175, 20)           346320    \n",
      "_________________________________________________________________\n",
      "bidirectional_5 (Bidirection (None, 175, 64)           13568     \n",
      "_________________________________________________________________\n",
      "bidirectional_6 (Bidirection (None, 175, 64)           24832     \n",
      "_________________________________________________________________\n",
      "time_distributed_4 (TimeDist (None, 175, 64)           4160      \n",
      "_________________________________________________________________\n",
      "crf_4 (CRF)                  (None, 175, 39)           4134      \n",
      "=================================================================\n",
      "Total params: 393,014\n",
      "Trainable params: 393,014\n",
      "Non-trainable params: 0\n",
      "_________________________________________________________________\n"
     ]
    }
   ],
   "source": [
    "input_layer = Input(shape=(max_len,))\n",
    "\n",
    "model = Embedding(input_dim=n_words + 1, output_dim=20,input_length=max_len, mask_zero=True)(input_layer)\n",
    "model = Bidirectional(LSTM(units=32, return_sequences=True, recurrent_dropout=0.2))(model)  \n",
    "model = Bidirectional(LSTM(units=32, return_sequences=True, recurrent_dropout=0.2))(model)  \n",
    "model = TimeDistributed(Dense(64, activation=\"elu\"))(model)\n",
    "\n",
    "crf = CRF(n_tags)\n",
    "\n",
    "output_layer = crf(model)\n",
    "\n",
    "model = Model(input_layer, output_layer)\n",
    "model.compile(optimizer=\"rmsprop\", loss=crf.loss_function, metrics=[crf.accuracy])\n",
    "model.summary()\n",
    "history = None"
   ]
  },
  {
   "cell_type": "code",
   "execution_count": null,
   "metadata": {},
   "outputs": [
    {
     "name": "stdout",
     "output_type": "stream",
     "text": [
      "Train on 3179 samples, validate on 354 samples\n",
      "Epoch 1/4\n",
      "3179/3179 [==============================] - 143s 45ms/step - loss: 0.1203 - viterbi_acc: 0.9645 - val_loss: 0.1279 - val_viterbi_acc: 0.9638\n",
      "Epoch 2/4\n",
      "3179/3179 [==============================] - 141s 44ms/step - loss: 0.0934 - viterbi_acc: 0.9748 - val_loss: 0.1123 - val_viterbi_acc: 0.9687\n",
      "Epoch 3/4\n",
      "3179/3179 [==============================] - 141s 44ms/step - loss: 0.0731 - viterbi_acc: 0.9817 - val_loss: 0.1001 - val_viterbi_acc: 0.9744\n",
      "Epoch 4/4\n",
      "3168/3179 [============================>.] - ETA: 0s - loss: 0.0594 - viterbi_acc: 0.9853"
     ]
    }
   ],
   "source": [
    "History = model.fit(X_tr, np.array(y_tr), batch_size=32, epochs=4,\n",
    "                    validation_split=0.1, verbose=1)\n",
    "if history is None:\n",
    "    history = History.history\n",
    "else:\n",
    "    for key in History.history.keys():\n",
    "        history[key].extend(History.history[key])"
   ]
  },
  {
   "cell_type": "code",
   "execution_count": 41,
   "metadata": {},
   "outputs": [
    {
     "data": {
      "image/png": "[encoded data removed]",
      "text/plain": [
       "<matplotlib.figure.Figure at 0x7f5499f69250>"
      ]
     },
     "metadata": {},
     "output_type": "display_data"
    }
   ],
   "source": [
    "from matplotlib import pyplot as plt\n",
    "\n",
    "def plot_traincurve(history):\n",
    "    # define 4 colors for up to 4 different values in history\n",
    "    colors = {'loss':'r', 'viterbi_acc':'b', 'val_loss':'m', 'val_viterbi_acc':'g'}\n",
    "    plt.figure(figsize=(10,6))\n",
    "    plt.title(\"Training Curve\") \n",
    "    plt.xlabel(\"Epoch\")\n",
    "\n",
    "\n",
    "    for measure in history.keys():\n",
    "        color = colors[measure]\n",
    "        ln = len(history[measure])\n",
    "        plt.plot(range(1,ln+1), history[measure], color + '-', label=measure)  # use last 2 values to draw line\n",
    "\n",
    "    plt.legend(loc='upper left', scatterpoints = 1, frameon=False)\n",
    "    \n",
    "plot_traincurve(history)\n"
   ]
  },
  {
   "cell_type": "markdown",
   "metadata": {},
   "source": [
    "## Testing\n",
    "\n",
    "una volta allenato il modello è il momento di vericarne le prestazioni sul test set che abbiamo creato prima.\n",
    "\n",
    "La funzione `acc_score` calcola quale percentuale delle predizioni fatte dal modello è corretta ponendo attenzione a non considerare il padding nel calcolo, questi valori infatti vengono sempre individuati correttamente.\n",
    "\n",
    "La funzione `testSentence` valuta una singola frase e se si desidera stampa una lista in cui compare il tag predetto e quello effettivo.\n",
    "\n",
    "L'ultima funzione valuta tutte le frasi che compongono il test set e poi restituisce la media dei valori di *accuracy*, dando così un idea delle prestazioni complessive del modello."
   ]
  },
  {
   "cell_type": "code",
   "execution_count": 42,
   "metadata": {},
   "outputs": [],
   "source": [
    "def acc_score(pred, test):\n",
    "    r = 0.0\n",
    "    c = 0.0\n",
    "    for i,p in enumerate(pred):\n",
    "        if test[i] == tag2idx[\"<P>\"]:\n",
    "            break\n",
    "        else:\n",
    "            r += 1\n",
    "            if p == test[i]:\n",
    "                c += 1.0\n",
    "            \n",
    "    #print c,\"out of\",r\n",
    "    return c / r "
   ]
  },
  {
   "cell_type": "code",
   "execution_count": 45,
   "metadata": {
    "scrolled": false
   },
   "outputs": [
    {
     "name": "stdout",
     "output_type": "stream",
     "text": [
      "Word           ||True ||Pred\n",
      "==============================\n",
      "Le             : RD    RD\n",
      "parti          : S     S\n",
      "si             : PC    PC\n",
      "reincontreranno: V     V\n",
      "domani         : B     B\n",
      ",              : FF    FF\n",
      "i              : RD    RD\n",
      "poligrafici    : S     S\n",
      "hanno          : VA    E\n",
      "già           : B     V\n",
      "minacciato     : V     V\n",
      "altre          : DI    V\n",
      "ore            : S     S\n",
      "di             : E     E\n",
      "sciopero       : S     S\n",
      "nel            : EA    EA\n",
      "caso           : S     S\n",
      "la             : RD    FF\n",
      "trattativa     : S     S\n",
      "si             : PC    PR\n",
      "irrigidisse    : V     V\n",
      "ulteriormente  : B     B\n",
      ".              : FS    FS\n"
     ]
    },
    {
     "data": {
      "text/plain": [
       "0.782608695652174"
      ]
     },
     "execution_count": 45,
     "metadata": {},
     "output_type": "execute_result"
    }
   ],
   "source": [
    "def testSentence(i, verbose=False):\n",
    "    p = model.predict(np.array([X_te[i]]))\n",
    "    p = np.argmax(p, axis=-1)\n",
    "    true = np.argmax(y_te[i], -1)\n",
    "\n",
    "    if verbose:\n",
    "        #print p,true\n",
    "        print(\"{:15}||{:5}||{}\".format(\"Word\", \"True\", \"Pred\"))\n",
    "        print(30 * \"=\")\n",
    "        for w, t, pred in zip(X_te[i], true, p[0]):\n",
    "            if w != word2idx[\"<PADDING>\"]:\n",
    "                print(\"{:15}: {:5} {}\".format(words[w-1], tags[t], tags[pred]))\n",
    "    \n",
    "    return acc_score(p[0],true)\n",
    "\n",
    "testSentence(2, True)"
   ]
  },
  {
   "cell_type": "code",
   "execution_count": 46,
   "metadata": {},
   "outputs": [
    {
     "name": "stdout",
     "output_type": "stream",
     "text": [
      "0.702455500122\n"
     ]
    }
   ],
   "source": [
    "res = []\n",
    "for i,_ in enumerate(X_te):\n",
    "    print i,\"\\r\",\n",
    "    res.append(testSentence(i))\n",
    "#print res\n",
    "print np.mean(res)"
   ]
  }
 ],
 "metadata": {
  "kernelspec": {
   "display_name": "Python 2",
   "language": "python",
   "name": "python2"
  },
  "language_info": {
   "codemirror_mode": {
    "name": "ipython",
    "version": 2
   },
   "file_extension": ".py",
   "mimetype": "text/x-python",
   "name": "python",
   "nbconvert_exporter": "python",
   "pygments_lexer": "ipython2",
   "version": "2.7.14"
  }
 },
 "nbformat": 4,
 "nbformat_minor": 2
}
