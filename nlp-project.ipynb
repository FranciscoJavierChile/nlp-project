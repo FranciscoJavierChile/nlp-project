{
 "cells": [
  {
   "cell_type": "markdown",
   "metadata": {},
   "source": [
    "# Part-of-speech Tagger con Keras"
   ]
  },
  {
   "cell_type": "code",
   "execution_count": 27,
   "metadata": {},
   "outputs": [],
   "source": [
    "import keras\n",
    "from keras.preprocessing import text\n",
    "\n",
    "import numpy as np\n",
    "import pickle\n",
    "import pandas as pd\n",
    "\n",
    "from collections import Counter"
   ]
  },
  {
   "cell_type": "code",
   "execution_count": 62,
   "metadata": {},
   "outputs": [
    {
     "data": {
      "text/plain": [
       "'A'"
      ]
     },
     "execution_count": 62,
     "metadata": {},
     "output_type": "execute_result"
    }
   ],
   "source": [
    "import string\n",
    "def removeLower(tag):\n",
    "    t = tag.translate(None,string.ascii_lowercase)\n",
    "    t = t.translate(None,string.digits)\n",
    "    return t\n",
    "removeLower(\"Asd12\")"
   ]
  },
  {
   "cell_type": "code",
   "execution_count": 180,
   "metadata": {
    "scrolled": true
   },
   "outputs": [
    {
     "name": "stderr",
     "output_type": "stream",
     "text": [
      "/usr/local/lib/python2.7/dist-packages/ipykernel_launcher.py:2: ParserWarning: Falling back to the 'python' engine because the 'c' engine does not support regex separators (separators > 1 char and different from '\\s+' are interpreted as regex); you can avoid this warning by specifying engine='python'.\n",
      "  \n"
     ]
    },
    {
     "name": "stdout",
     "output_type": "stream",
     "text": [
      "#words: 17314 #tags: 38\n",
      "<PADDING>\n"
     ]
    }
   ],
   "source": [
    "# Apriamo il file del postagger con pandas\n",
    "data = pd.read_table(\"PoSTaggingCorpus/train\", sep=\"\\s*\")\n",
    "#visualizziamo il risultato\n",
    "#print textfile.words\n",
    "#texfile.tags\n",
    "words = list(set(data.words))\n",
    "n_words = len(words)\n",
    "tags = list(set([removeLower(t) for t in data.tags]))\n",
    "n_tags = len(tags)\n",
    "\n",
    "print \"#words:\",n_words,\"#tags:\",n_tags\n",
    "words.append(\"<PADDING>\")\n",
    "print words[-1]\n",
    "#print sorted(tags)"
   ]
  },
  {
   "cell_type": "code",
   "execution_count": 64,
   "metadata": {},
   "outputs": [
    {
     "name": "stdout",
     "output_type": "stream",
     "text": [
      "#sentecses: 3719\n",
      "[('\\xc3\\x88', 'V'), ('abbastanza', 'B'), ('strano', 'A'), ('il', 'RD'), ('disinteresse', 'S'), ('con', 'E'), ('cui', 'PR'), ('\\xc3\\xa8', 'VA'), ('stata', 'VA'), ('accolta', 'V'), (\"l'\", 'RD'), ('intervista', 'S'), ('che', 'PR'), (\"l'\", 'RD'), ('on.', 'SA'), ('Rino', 'SP'), ('Formica', 'SP'), ('ha', 'VA'), ('dato', 'V'), ('sabato', 'S'), ('scorso', 'A'), ('alla', 'EA'), ('Repubblica', 'SP'), ('.', 'FS')]\n"
     ]
    }
   ],
   "source": [
    "txt = open(\"PoSTaggingCorpus/train\",\"r\")\n",
    "txt.readline()\n",
    "txt.readline()\n",
    "line = txt.readline()\n",
    "sentences = []\n",
    "sn = []\n",
    "while line:\n",
    "    if line == \"\\n\":\n",
    "       # print \"LINEEND\",sn\n",
    "        sentences.append(sn)\n",
    "        sn = []\n",
    "        line = txt.readline()\n",
    "    else: \n",
    "        #print \"word\"\n",
    "        ln = line.split(\"\\t\")\n",
    "        ln[1] = ln[1].strip(\"\\n\")\n",
    "        sn.append((ln[0],removeLower(ln[1])))\n",
    "        line = txt.readline()\n",
    "\n",
    "print \"#sentecses:\",len(sentences) \n",
    "print sentences[0]"
   ]
  },
  {
   "cell_type": "code",
   "execution_count": 190,
   "metadata": {},
   "outputs": [
    {
     "name": "stdout",
     "output_type": "stream",
     "text": [
      "17315\n",
      "32\n"
     ]
    }
   ],
   "source": [
    "word2idx = {w: i + 1 for i, w in enumerate(words)}\n",
    "print word2idx[\"<PADDING>\"]\n",
    "\n",
    "tag2idx = {t: i for i, t in enumerate(tags)}\n",
    "print tag2idx[\"X\"]"
   ]
  },
  {
   "cell_type": "code",
   "execution_count": 191,
   "metadata": {},
   "outputs": [],
   "source": [
    "max_len = 30\n",
    "from keras.preprocessing.sequence import pad_sequences\n",
    "X = [[word2idx[w[0]] for w in s] for s in sentences]\n",
    "X = pad_sequences(maxlen=max_len, sequences=X, padding=\"post\", value=17315)\n",
    "# X is the value for the residual class\n",
    "y = [[tag2idx[w[1]] for w in s] for s in sentences]\n",
    "y = pad_sequences(maxlen=max_len, sequences=y, padding=\"post\", value=tag2idx[\"X\"])\n"
   ]
  },
  {
   "cell_type": "code",
   "execution_count": 192,
   "metadata": {},
   "outputs": [],
   "source": [
    "from keras.utils import to_categorical\n",
    "y = [to_categorical(i, num_classes=n_tags) for i in y]"
   ]
  },
  {
   "cell_type": "code",
   "execution_count": 193,
   "metadata": {},
   "outputs": [
    {
     "data": {
      "text/plain": [
       "(186, 30)"
      ]
     },
     "execution_count": 193,
     "metadata": {},
     "output_type": "execute_result"
    }
   ],
   "source": [
    "from sklearn.model_selection import train_test_split\n",
    "X_tr, X_te, y_tr, y_te = train_test_split(X, y, test_size=0.05)\n",
    "X_te.shape"
   ]
  },
  {
   "cell_type": "code",
   "execution_count": 194,
   "metadata": {},
   "outputs": [],
   "source": [
    "from keras.models import Model, Input\n",
    "from keras.layers import LSTM, Embedding, Dense, TimeDistributed, Dropout, Bidirectional\n",
    "from keras_contrib.layers import CRF"
   ]
  },
  {
   "cell_type": "code",
   "execution_count": 195,
   "metadata": {},
   "outputs": [
    {
     "name": "stdout",
     "output_type": "stream",
     "text": [
      "_________________________________________________________________\n",
      "Layer (type)                 Output Shape              Param #   \n",
      "=================================================================\n",
      "input_9 (InputLayer)         (None, 30)                0         \n",
      "_________________________________________________________________\n",
      "embedding_9 (Embedding)      (None, 30, 20)            346300    \n",
      "_________________________________________________________________\n",
      "bidirectional_9 (Bidirection (None, 30, 100)           28400     \n",
      "_________________________________________________________________\n",
      "time_distributed_9 (TimeDist (None, 30, 50)            5050      \n",
      "_________________________________________________________________\n",
      "crf_9 (CRF)                  (None, 30, 38)            3458      \n",
      "=================================================================\n",
      "Total params: 383,208\n",
      "Trainable params: 383,208\n",
      "Non-trainable params: 0\n",
      "_________________________________________________________________\n"
     ]
    }
   ],
   "source": [
    "input = Input(shape=(max_len,))\n",
    "model = Embedding(input_dim=n_words + 1, output_dim=20,\n",
    "                  input_length=max_len, mask_zero=True)(input)  # 20-dim embedding\n",
    "model = Bidirectional(LSTM(units=50, return_sequences=True,\n",
    "                           recurrent_dropout=0.1))(model)  # variational biLSTM\n",
    "model = TimeDistributed(Dense(50, activation=\"relu\"))(model)  # a dense layer as suggested by neuralNer\n",
    "crf = CRF(n_tags)  # CRF layer\n",
    "out = crf(model)  # output\n",
    "\n",
    "model = Model(input, out)\n",
    "model.compile(optimizer=\"rmsprop\", loss=crf.loss_function, metrics=[crf.accuracy])\n",
    "model.summary()\n",
    "history = None"
   ]
  },
  {
   "cell_type": "code",
   "execution_count": 196,
   "metadata": {},
   "outputs": [
    {
     "name": "stdout",
     "output_type": "stream",
     "text": [
      "Train on 3179 samples, validate on 354 samples\n",
      "Epoch 1/5\n",
      "3179/3179 [==============================] - 13s - loss: 2.4697 - viterbi_acc: 0.3234 - val_loss: 2.0974 - val_viterbi_acc: 0.3732\n",
      "Epoch 2/5\n",
      "3179/3179 [==============================] - 11s - loss: 1.8287 - viterbi_acc: 0.4565 - val_loss: 1.4865 - val_viterbi_acc: 0.5581\n",
      "Epoch 3/5\n",
      "3179/3179 [==============================] - 11s - loss: 1.1673 - viterbi_acc: 0.6465 - val_loss: 0.9205 - val_viterbi_acc: 0.7121\n",
      "Epoch 4/5\n",
      "3179/3179 [==============================] - 11s - loss: 0.7260 - viterbi_acc: 0.7770 - val_loss: 0.6002 - val_viterbi_acc: 0.8074\n",
      "Epoch 5/5\n",
      "3179/3179 [==============================] - 11s - loss: 0.4748 - viterbi_acc: 0.8584 - val_loss: 0.4307 - val_viterbi_acc: 0.8745\n"
     ]
    }
   ],
   "source": [
    "History = model.fit(X_tr, np.array(y_tr), batch_size=32, epochs=5,\n",
    "                    validation_split=0.1, verbose=1)\n",
    "if history is None:\n",
    "    history = History.history\n",
    "else:\n",
    "    for key in History.history.keys():\n",
    "        history[key].extend(History.history[key])"
   ]
  },
  {
   "cell_type": "code",
   "execution_count": 187,
   "metadata": {},
   "outputs": [
    {
     "data": {
      "image/png": "[encoded data removed]",
      "text/plain": [
       "<matplotlib.figure.Figure at 0x7fd8b22cb190>"
      ]
     },
     "metadata": {},
     "output_type": "display_data"
    }
   ],
   "source": [
    "def plot_traincurve(history):\n",
    "    # define 4 colors for up to 4 different values in history\n",
    "    colors = {'loss':'r', 'viterbi_acc':'b', 'val_loss':'m', 'val_viterbi_acc':'g'}\n",
    "    plt.figure(figsize=(10,6))\n",
    "    plt.title(\"Training Curve\") \n",
    "    plt.xlabel(\"Epoch\")\n",
    "\n",
    "\n",
    "    for measure in history.keys():\n",
    "        color = colors[measure]\n",
    "        ln = len(history[measure])\n",
    "        plt.plot(range(1,ln+1), history[measure], color + '-', label=measure)  # use last 2 values to draw line\n",
    "\n",
    "    plt.legend(loc='upper left', scatterpoints = 1, frameon=False)\n",
    "    \n",
    "plot_traincurve(history)\n"
   ]
  },
  {
   "cell_type": "code",
   "execution_count": 188,
   "metadata": {},
   "outputs": [],
   "source": [
    "def acc_score(pred, test):\n",
    "    r = 0.0\n",
    "    c = 0\n",
    "    for i,p in enumerate(pred):\n",
    "        if p == test[i]:\n",
    "            c += 1.0\n",
    "    print c,\"out of\",len(pred)\n",
    "    return c / len(pred)"
   ]
  },
  {
   "cell_type": "code",
   "execution_count": 189,
   "metadata": {},
   "outputs": [
    {
     "name": "stdout",
     "output_type": "stream",
     "text": [
      "[[13 28 22 30 36 28 20 30 24 28 30 22 30 21 36  4 36 30 28 21 22 36 28 19\n",
      "  30 19  4  0 32 32]] [13 28 22 30 36 28 20 20 24 28 30 22 34 21 22  4 36 12 28 21 22 36 28 22 26\n",
      " 28  4  0 32 32]\n",
      "Word           ||True ||Pred\n",
      "==============================\n",
      "La             : RD    RD\n",
      "decisione      : S     S\n",
      "di             : E     E\n",
      "cominciare     : V     V\n",
      "un             : RI    RI\n",
      "dialogo        : S     S\n",
      "è             : VA    VA\n",
      "stata          : VA    V\n",
      "del            : EA    EA\n",
      "resto          : S     S\n",
      "definita       : V     V\n",
      "da             : E     E\n",
      "Shultz         : SP    V\n",
      "solo           : B     B\n",
      "come           : E     RI\n",
      "«             : FB    FB\n",
      "un             : RI    RI\n",
      "primo          : NO    V\n",
      "passo          : S     S\n",
      "avanti         : B     B\n",
      "in             : E     E\n",
      "un             : RI    RI\n",
      "cammino        : S     S\n",
      "lungo          : E     A\n",
      "mille          : N     V\n",
      "miglia         : S     A\n",
      "»             : FB    FB\n",
      ".              : FS    FS\n",
      "cineclub       : X     X\n",
      "cineclub       : X     X\n",
      "23.0 out of 30\n"
     ]
    },
    {
     "data": {
      "text/plain": [
       "0.7666666666666667"
      ]
     },
     "execution_count": 189,
     "metadata": {},
     "output_type": "execute_result"
    }
   ],
   "source": [
    "def testSentence(i, verbose=False):\n",
    "    p = model.predict(np.array([X_te[i]]))\n",
    "    p = np.argmax(p, axis=-1)\n",
    "    true = np.argmax(y_te[i], -1)\n",
    "\n",
    "    if verbose:\n",
    "        print p,true\n",
    "        print(\"{:15}||{:5}||{}\".format(\"Word\", \"True\", \"Pred\"))\n",
    "        print(30 * \"=\")\n",
    "        for w, t, pred in zip(X_te[i], true, p[0]):\n",
    "            if w != 0:\n",
    "                print(\"{:15}: {:5} {}\".format(words[w-1], tags[t], tags[pred]))\n",
    "    \n",
    "    return acc_score(p[0],true)\n",
    "\n",
    "testSentence(0, True)"
   ]
  },
  {
   "cell_type": "code",
   "execution_count": 94,
   "metadata": {},
   "outputs": [
    {
     "ename": "NameError",
     "evalue": "name 'test_labels' is not defined",
     "output_type": "error",
     "traceback": [
      "\u001b[0;31m---------------------------------------------------------------------------\u001b[0m",
      "\u001b[0;31mNameError\u001b[0m                                 Traceback (most recent call last)",
      "\u001b[0;32m<ipython-input-94-746d4445faf0>\u001b[0m in \u001b[0;36m<module>\u001b[0;34m()\u001b[0m\n\u001b[1;32m      7\u001b[0m \u001b[0;34m\u001b[0m\u001b[0m\n\u001b[1;32m      8\u001b[0m \u001b[0;34m\u001b[0m\u001b[0m\n\u001b[0;32m----> 9\u001b[0;31m \u001b[0marray\u001b[0m \u001b[0;34m=\u001b[0m \u001b[0mconfusion_matrix\u001b[0m\u001b[0;34m(\u001b[0m\u001b[0mtest_labels\u001b[0m\u001b[0;34m,\u001b[0m \u001b[0mtest_pred\u001b[0m\u001b[0;34m)\u001b[0m\u001b[0;34m\u001b[0m\u001b[0m\n\u001b[0m\u001b[1;32m     10\u001b[0m \u001b[0marray\u001b[0m \u001b[0;34m=\u001b[0m \u001b[0mpreprocessing\u001b[0m\u001b[0;34m.\u001b[0m\u001b[0mnormalize\u001b[0m\u001b[0;34m(\u001b[0m\u001b[0marray\u001b[0m\u001b[0;34m,\u001b[0m \u001b[0maxis\u001b[0m\u001b[0;34m=\u001b[0m\u001b[0;36m1\u001b[0m\u001b[0;34m,\u001b[0m \u001b[0mnorm\u001b[0m\u001b[0;34m=\u001b[0m\u001b[0;34m'l1'\u001b[0m\u001b[0;34m)\u001b[0m\u001b[0;34m\u001b[0m\u001b[0m\n\u001b[1;32m     11\u001b[0m df_cm = pd.DataFrame(array, index = [i for i in genres],\n",
      "\u001b[0;31mNameError\u001b[0m: name 'test_labels' is not defined"
     ]
    }
   ],
   "source": [
    "# Creating the Confusion Matrix\n",
    "from sklearn.metrics import confusion_matrix\n",
    "import seaborn as sn\n",
    "import pandas as pd\n",
    "import matplotlib.pyplot as plt\n",
    "\n",
    "\n",
    "array = confusion_matrix(y_te, test_pred)\n",
    "array = preprocessing.normalize(array, axis=1, norm='l1')\n",
    "df_cm = pd.DataFrame(array, index = [i for i in genres],\n",
    "                  columns = [i for i in genres])\n",
    "plt.figure(figsize = (10,7))\n",
    "sn.heatmap(df_cm, annot=True,cmap=\"magma\")"
   ]
  },
  {
   "cell_type": "code",
   "execution_count": 121,
   "metadata": {},
   "outputs": [
    {
     "data": {
      "text/plain": [
       "array([ 0.,  0.,  0.,  0.,  0.,  0.,  0.,  0.,  0.,  0.,  0.,  0.,  0.,\n",
       "        0.,  0.,  0.,  0.,  0.,  0.,  0.,  0.,  0.,  0.,  0.,  0.,  0.,\n",
       "        0.,  0.,  1.,  0.,  0.,  0.,  0.,  0.,  0.,  0.,  0.,  0.])"
      ]
     },
     "execution_count": 121,
     "metadata": {},
     "output_type": "execute_result"
    }
   ],
   "source": [
    "y_te[1][0]"
   ]
  },
  {
   "cell_type": "code",
   "execution_count": null,
   "metadata": {},
   "outputs": [],
   "source": []
  }
 ],
 "metadata": {
  "kernelspec": {
   "display_name": "Python 2",
   "language": "python",
   "name": "python2"
  },
  "language_info": {
   "codemirror_mode": {
    "name": "ipython",
    "version": 2
   },
   "file_extension": ".py",
   "mimetype": "text/x-python",
   "name": "python",
   "nbconvert_exporter": "python",
   "pygments_lexer": "ipython2",
   "version": "2.7.12"
  }
 },
 "nbformat": 4,
 "nbformat_minor": 2
}
