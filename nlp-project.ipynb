{
 "cells": [
  {
   "cell_type": "markdown",
   "metadata": {},
   "source": [
    "# Part-of-speech Tagger con Keras"
   ]
  },
  {
   "cell_type": "code",
   "execution_count": 1,
   "metadata": {},
   "outputs": [
    {
     "name": "stderr",
     "output_type": "stream",
     "text": [
      "Using TensorFlow backend.\n"
     ]
    }
   ],
   "source": [
    "import keras\n",
    "from keras.preprocessing import text\n",
    "\n",
    "import numpy as np\n",
    "import pickle\n",
    "import pandas as pd\n",
    "\n",
    "from collections import Counter"
   ]
  },
  {
   "cell_type": "code",
   "execution_count": 118,
   "metadata": {},
   "outputs": [],
   "source": [
    "import string\n",
    "def removeLower(tag):\n",
    "    t = tag.translate(None,string.ascii_lowercase)\n",
    "    t = t.translate(None,string.digits)\n",
    "    return t"
   ]
  },
  {
   "cell_type": "code",
   "execution_count": 60,
   "metadata": {
    "scrolled": true
   },
   "outputs": [
    {
     "name": "stderr",
     "output_type": "stream",
     "text": [
      "/usr/local/lib/python2.7/dist-packages/ipykernel_launcher.py:2: ParserWarning: Falling back to the 'python' engine because the 'c' engine does not support regex separators (separators > 1 char and different from '\\s+' are interpreted as regex); you can avoid this warning by specifying engine='python'.\n",
      "  \n"
     ]
    },
    {
     "name": "stdout",
     "output_type": "stream",
     "text": [
      "#words: 17315 #tags: 39\n",
      "<PADDING> <P>\n"
     ]
    }
   ],
   "source": [
    "# Apriamo il file del postagger con pandas\n",
    "data = pd.read_table(\"PoSTaggingCorpus/train\", sep=\"\\s*\")\n",
    "#visualizziamo il risultato\n",
    "#print textfile.words\n",
    "#texfile.tags\n",
    "words = list(set(data.words))\n",
    "words.append(\"<PADDING>\")\n",
    "n_words = len(words)\n",
    "tags = list(set([removeLower(t) for t in data.tags]))\n",
    "tags.append(\"<P>\")\n",
    "n_tags = len(tags)\n",
    "\n",
    "print \"#words:\",n_words,\"#tags:\",n_tags\n",
    "\n",
    "print words[-1],tags[-1]\n",
    "#print sorted(tags)"
   ]
  },
  {
   "cell_type": "code",
   "execution_count": 61,
   "metadata": {},
   "outputs": [
    {
     "name": "stdout",
     "output_type": "stream",
     "text": [
      "#sentecses: 3719\n",
      "[('\\xc3\\x88', 'V'), ('abbastanza', 'B'), ('strano', 'A'), ('il', 'RD'), ('disinteresse', 'S'), ('con', 'E'), ('cui', 'PR'), ('\\xc3\\xa8', 'VA'), ('stata', 'VA'), ('accolta', 'V'), (\"l'\", 'RD'), ('intervista', 'S'), ('che', 'PR'), (\"l'\", 'RD'), ('on.', 'SA'), ('Rino', 'SP'), ('Formica', 'SP'), ('ha', 'VA'), ('dato', 'V'), ('sabato', 'S'), ('scorso', 'A'), ('alla', 'EA'), ('Repubblica', 'SP'), ('.', 'FS')]\n"
     ]
    }
   ],
   "source": [
    "txt = open(\"PoSTaggingCorpus/train\",\"r\")\n",
    "txt.readline()\n",
    "txt.readline()\n",
    "line = txt.readline()\n",
    "sentences = []\n",
    "sn = []\n",
    "while line:\n",
    "    if line == \"\\n\":\n",
    "       # print \"LINEEND\",sn\n",
    "        sentences.append(sn)\n",
    "        sn = []\n",
    "        line = txt.readline()\n",
    "    else: \n",
    "        #print \"word\"\n",
    "        ln = line.split(\"\\t\")\n",
    "        ln[1] = ln[1].strip(\"\\n\")\n",
    "        sn.append((ln[0],removeLower(ln[1])))\n",
    "        line = txt.readline()\n",
    "\n",
    "print \"#sentecses:\",len(sentences) \n",
    "print sentences[0]"
   ]
  },
  {
   "cell_type": "code",
   "execution_count": 62,
   "metadata": {},
   "outputs": [
    {
     "name": "stdout",
     "output_type": "stream",
     "text": [
      "175\n"
     ]
    }
   ],
   "source": [
    "#longest sentence?\n",
    "print max([len(s) for s in sentences])\n"
   ]
  },
  {
   "cell_type": "code",
   "execution_count": 63,
   "metadata": {},
   "outputs": [
    {
     "name": "stdout",
     "output_type": "stream",
     "text": [
      "17315\n",
      "38\n"
     ]
    }
   ],
   "source": [
    "word2idx = {w: i + 1 for i, w in enumerate(words)}\n",
    "print word2idx[\"<PADDING>\"]\n",
    "\n",
    "tag2idx = {t: i for i, t in enumerate(tags)}\n",
    "print tag2idx[\"<P>\"]"
   ]
  },
  {
   "cell_type": "code",
   "execution_count": 79,
   "metadata": {},
   "outputs": [],
   "source": [
    "max_len = 175\n",
    "from keras.preprocessing.sequence import pad_sequences\n",
    "X = [[word2idx[w[0]] for w in s] for s in sentences]\n",
    "X = pad_sequences(maxlen=max_len, sequences=X, padding=\"post\", value=word2idx[\"<PADDING>\"])\n",
    "# X is the value for the residual class\n",
    "y = [[tag2idx[w[1]] for w in s] for s in sentences]\n",
    "y = pad_sequences(maxlen=max_len, sequences=y, padding=\"post\", value=tag2idx[\"<P>\"])\n"
   ]
  },
  {
   "cell_type": "code",
   "execution_count": 80,
   "metadata": {},
   "outputs": [],
   "source": [
    "from keras.utils import to_categorical\n",
    "y = [to_categorical(i, num_classes=n_tags) for i in y]"
   ]
  },
  {
   "cell_type": "code",
   "execution_count": 81,
   "metadata": {},
   "outputs": [
    {
     "data": {
      "text/plain": [
       "(186, 175)"
      ]
     },
     "execution_count": 81,
     "metadata": {},
     "output_type": "execute_result"
    }
   ],
   "source": [
    "from sklearn.model_selection import train_test_split\n",
    "X_tr, X_te, y_tr, y_te = train_test_split(X, y, test_size=0.05)\n",
    "X_te.shape"
   ]
  },
  {
   "cell_type": "code",
   "execution_count": 82,
   "metadata": {},
   "outputs": [],
   "source": [
    "from keras.models import Model, Input\n",
    "from keras.layers import LSTM, Embedding, Dense, TimeDistributed, Dropout, Bidirectional\n",
    "from keras_contrib.layers import CRF"
   ]
  },
  {
   "cell_type": "code",
   "execution_count": 68,
   "metadata": {},
   "outputs": [
    {
     "name": "stdout",
     "output_type": "stream",
     "text": [
      "_________________________________________________________________\n",
      "Layer (type)                 Output Shape              Param #   \n",
      "=================================================================\n",
      "input_3 (InputLayer)         (None, 175)               0         \n",
      "_________________________________________________________________\n",
      "embedding_3 (Embedding)      (None, 175, 20)           346320    \n",
      "_________________________________________________________________\n",
      "bidirectional_3 (Bidirection (None, 175, 100)          28400     \n",
      "_________________________________________________________________\n",
      "time_distributed_3 (TimeDist (None, 175, 50)           5050      \n",
      "_________________________________________________________________\n",
      "crf_3 (CRF)                  (None, 175, 39)           3588      \n",
      "=================================================================\n",
      "Total params: 383,358\n",
      "Trainable params: 383,358\n",
      "Non-trainable params: 0\n",
      "_________________________________________________________________\n"
     ]
    }
   ],
   "source": [
    "input = Input(shape=(max_len,))\n",
    "model = Embedding(input_dim=n_words + 1, output_dim=20,\n",
    "                  input_length=max_len, mask_zero=True)(input)  # 20-dim embedding\n",
    "model = Bidirectional(LSTM(units=50, return_sequences=True,\n",
    "                           recurrent_dropout=0.1))(model)  # variational biLSTM\n",
    "model = TimeDistributed(Dense(50, activation=\"relu\"))(model)  # a dense layer as suggested by neuralNer\n",
    "crf = CRF(n_tags)  # CRF layer\n",
    "out = crf(model)  # output\n",
    "\n",
    "model = Model(input, out)\n",
    "model.compile(optimizer=\"rmsprop\", loss=crf.loss_function, metrics=[crf.accuracy])\n",
    "model.summary()\n",
    "history = None"
   ]
  },
  {
   "cell_type": "code",
   "execution_count": 69,
   "metadata": {},
   "outputs": [
    {
     "name": "stdout",
     "output_type": "stream",
     "text": [
      "Train on 3179 samples, validate on 354 samples\n",
      "Epoch 1/5\n",
      "3179/3179 [==============================] - 63s - loss: 0.7764 - viterbi_acc: 0.8085 - val_loss: 0.4606 - val_viterbi_acc: 0.8645\n",
      "Epoch 2/5\n",
      "3179/3179 [==============================] - 66s - loss: 0.4209 - viterbi_acc: 0.8780 - val_loss: 0.3601 - val_viterbi_acc: 0.8978\n",
      "Epoch 3/5\n",
      "3179/3179 [==============================] - 65s - loss: 0.2907 - viterbi_acc: 0.9112 - val_loss: 0.2348 - val_viterbi_acc: 0.9285\n",
      "Epoch 4/5\n",
      "3179/3179 [==============================] - 67s - loss: 0.1901 - viterbi_acc: 0.9419 - val_loss: 0.1578 - val_viterbi_acc: 0.9527\n",
      "Epoch 5/5\n",
      "3179/3179 [==============================] - 65s - loss: 0.1297 - viterbi_acc: 0.9616 - val_loss: 0.1193 - val_viterbi_acc: 0.9638\n"
     ]
    }
   ],
   "source": [
    "History = model.fit(X_tr, np.array(y_tr), batch_size=32, epochs=5,\n",
    "                    validation_split=0.1, verbose=1)\n",
    "if history is None:\n",
    "    history = History.history\n",
    "else:\n",
    "    for key in History.history.keys():\n",
    "        history[key].extend(History.history[key])"
   ]
  },
  {
   "cell_type": "code",
   "execution_count": 70,
   "metadata": {},
   "outputs": [
    {
     "data": {
      "image/png": "[encoded data removed]",
      "text/plain": [
       "<matplotlib.figure.Figure at 0x7f28b361d990>"
      ]
     },
     "metadata": {},
     "output_type": "display_data"
    }
   ],
   "source": [
    "from matplotlib import pyplot as plt\n",
    "\n",
    "def plot_traincurve(history):\n",
    "    # define 4 colors for up to 4 different values in history\n",
    "    colors = {'loss':'r', 'viterbi_acc':'b', 'val_loss':'m', 'val_viterbi_acc':'g'}\n",
    "    plt.figure(figsize=(10,6))\n",
    "    plt.title(\"Training Curve\") \n",
    "    plt.xlabel(\"Epoch\")\n",
    "\n",
    "\n",
    "    for measure in history.keys():\n",
    "        color = colors[measure]\n",
    "        ln = len(history[measure])\n",
    "        plt.plot(range(1,ln+1), history[measure], color + '-', label=measure)  # use last 2 values to draw line\n",
    "\n",
    "    plt.legend(loc='upper left', scatterpoints = 1, frameon=False)\n",
    "    \n",
    "plot_traincurve(history)\n"
   ]
  },
  {
   "cell_type": "code",
   "execution_count": 114,
   "metadata": {},
   "outputs": [],
   "source": [
    "def acc_score(pred, test):\n",
    "    r = 0.0\n",
    "    c = 0.0\n",
    "    for i,p in enumerate(pred):\n",
    "        if test[i] == tag2idx[\"<P>\"]:\n",
    "            break\n",
    "        else:\n",
    "            r += 1\n",
    "            if p == test[i]:\n",
    "                c += 1.0\n",
    "            \n",
    "    #print c,\"out of\",r\n",
    "    return c / r "
   ]
  },
  {
   "cell_type": "code",
   "execution_count": 112,
   "metadata": {
    "scrolled": false
   },
   "outputs": [
    {
     "name": "stdout",
     "output_type": "stream",
     "text": [
      "29.0 out of 35.0\n"
     ]
    },
    {
     "data": {
      "text/plain": [
       "0.8285714285714286"
      ]
     },
     "execution_count": 112,
     "metadata": {},
     "output_type": "execute_result"
    }
   ],
   "source": [
    "def testSentence(i, verbose=False):\n",
    "    p = model.predict(np.array([X_te[i]]))\n",
    "    p = np.argmax(p, axis=-1)\n",
    "    true = np.argmax(y_te[i], -1)\n",
    "\n",
    "    if verbose:\n",
    "        #print p,true\n",
    "        print(\"{:15}||{:5}||{}\".format(\"Word\", \"True\", \"Pred\"))\n",
    "        print(30 * \"=\")\n",
    "        for w, t, pred in zip(X_te[i], true, p[0]):\n",
    "            if w != word2idx[\"<PADDING>\"]:\n",
    "                print(\"{:15}: {:5} {}\".format(words[w-1], tags[t], tags[pred]))\n",
    "    \n",
    "    return acc_score(p[0],true)\n",
    "\n",
    "testSentence(4, True)"
   ]
  },
  {
   "cell_type": "code",
   "execution_count": 117,
   "metadata": {},
   "outputs": [
    {
     "name": "stdout",
     "output_type": "stream",
     "text": [
      "0.805085914497\n"
     ]
    }
   ],
   "source": [
    "res = []\n",
    "for i,_ in enumerate(X_te):\n",
    "    print i,\"\\r\",\n",
    "    res.append(testSentence(i))\n",
    "#print res\n",
    "print np.mean(res)"
   ]
  },
  {
   "cell_type": "code",
   "execution_count": null,
   "metadata": {},
   "outputs": [],
   "source": []
  }
 ],
 "metadata": {
  "kernelspec": {
   "display_name": "Python 2",
   "language": "python",
   "name": "python2"
  },
  "language_info": {
   "codemirror_mode": {
    "name": "ipython",
    "version": 2
   },
   "file_extension": ".py",
   "mimetype": "text/x-python",
   "name": "python",
   "nbconvert_exporter": "python",
   "pygments_lexer": "ipython2",
   "version": "2.7.12"
  }
 },
 "nbformat": 4,
 "nbformat_minor": 2
}
